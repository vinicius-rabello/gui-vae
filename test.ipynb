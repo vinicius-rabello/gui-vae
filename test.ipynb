{
 "cells": [
  {
   "cell_type": "code",
   "execution_count": 94,
   "id": "892d437a",
   "metadata": {},
   "outputs": [],
   "source": [
    "# general imports\n",
    "import porespy as ps\n",
    "import numpy as np\n",
    "import matplotlib.pyplot as plt\n",
    "import os\n",
    "import cv2\n",
    "from tqdm import tqdm\n",
    "\n",
    "# torch imports\n",
    "import torch\n",
    "from torch import nn\n",
    "import import_ipynb\n",
    "from model import VariationalAutoEncoder\n",
    "from torchvision import transforms\n",
    "import torchvision.datasets as datasets\n",
    "from torch.utils.data import DataLoader, RandomSampler\n",
    "from torchvision.utils import save_image \n",
    "\n",
    "# GUI imports\n",
    "import tkinter as tk\n",
    "from tkinter import *\n",
    "from PIL import Image, ImageTk"
   ]
  },
  {
   "cell_type": "markdown",
   "id": "111736c1",
   "metadata": {},
   "source": [
    "### loading the model"
   ]
  },
  {
   "cell_type": "code",
   "execution_count": 11,
   "id": "eb6d9cd4",
   "metadata": {},
   "outputs": [],
   "source": [
    "# configuration\n",
    "DEVICE = torch.device('cuda' if torch.cuda.is_available() else 'cpu')\n",
    "INPUT_DIM = 256\n",
    "INIT_DIM = 8\n",
    "LATENT_DIM = 3\n",
    "BATCH_SIZE = 1\n",
    "LR_RATE = 3e-4\n",
    "KERNEL_SIZE = 4"
   ]
  },
  {
   "cell_type": "code",
   "execution_count": 12,
   "id": "602354a4",
   "metadata": {},
   "outputs": [
    {
     "data": {
      "text/plain": [
       "VariationalAutoEncoder(\n",
       "  (enc1): Conv2d(1, 8, kernel_size=(4, 4), stride=(2, 2), padding=(1, 1))\n",
       "  (enc2): Conv2d(8, 16, kernel_size=(4, 4), stride=(2, 2), padding=(1, 1))\n",
       "  (enc3): Conv2d(16, 32, kernel_size=(4, 4), stride=(2, 2), padding=(1, 1))\n",
       "  (enc4): Conv2d(32, 64, kernel_size=(4, 4), stride=(2, 2))\n",
       "  (fc1): Linear(in_features=14400, out_features=128, bias=True)\n",
       "  (fc_mu): Linear(in_features=128, out_features=3, bias=True)\n",
       "  (fc_log_var): Linear(in_features=128, out_features=3, bias=True)\n",
       "  (fc2): Linear(in_features=3, out_features=256, bias=True)\n",
       "  (dec1): ConvTranspose2d(256, 256, kernel_size=(4, 4), stride=(1, 1))\n",
       "  (dec2): ConvTranspose2d(256, 128, kernel_size=(4, 4), stride=(2, 2), padding=(1, 1))\n",
       "  (dec3): ConvTranspose2d(128, 64, kernel_size=(4, 4), stride=(2, 2), padding=(1, 1))\n",
       "  (dec4): ConvTranspose2d(64, 32, kernel_size=(4, 4), stride=(2, 2), padding=(1, 1))\n",
       "  (dec5): ConvTranspose2d(32, 8, kernel_size=(4, 4), stride=(2, 2), padding=(1, 1))\n",
       "  (dec6): ConvTranspose2d(8, 4, kernel_size=(4, 4), stride=(2, 2), padding=(1, 1))\n",
       "  (dec7): ConvTranspose2d(4, 1, kernel_size=(4, 4), stride=(2, 2), padding=(1, 1))\n",
       "  (relu): ReLU()\n",
       "  (dropout): Dropout(p=0.2, inplace=False)\n",
       ")"
      ]
     },
     "execution_count": 12,
     "metadata": {},
     "output_type": "execute_result"
    }
   ],
   "source": [
    "model = VariationalAutoEncoder(init_dim=INIT_DIM, latent_dim=LATENT_DIM, kernel_size=KERNEL_SIZE)\n",
    "model.load_state_dict(torch.load('models/model'))\n",
    "model.eval()"
   ]
  },
  {
   "cell_type": "code",
   "execution_count": 36,
   "id": "8f64e630",
   "metadata": {},
   "outputs": [],
   "source": [
    "def decode_sample(model,sample):\n",
    "    x,y,z = sample\n",
    "    out = model.decode(torch.tensor([x, y, z]).float())\n",
    "    out = out.view(-1, 1, 256, 256)\n",
    "    img = out.detach().numpy()[0][0]\n",
    "    return img"
   ]
  },
  {
   "cell_type": "code",
   "execution_count": 130,
   "id": "09d5140c",
   "metadata": {},
   "outputs": [],
   "source": [
    "class VAE_GUI:\n",
    "    def __init__(self, root):\n",
    "        self.model = model\n",
    "        self.canvas_size = 256\n",
    "        self.latent_dim = 3\n",
    "        \n",
    "        self.root = root\n",
    "        self.root.geometry(\"552x552\")  # Set window size\n",
    "        self.root.resizable(False, False)  # Disable resizing\n",
    "        \n",
    "        self.canvas = Canvas(root, width=self.canvas_size, height=self.canvas_size, bg='black')\n",
    "        self.canvas.pack(pady=10)\n",
    "        self.canvas.bind(\"<Button-1>\", self.on_click)\n",
    "        self.canvas.bind(\"<B1-Motion>\", self.on_drag)\n",
    "        \n",
    "        self.image_label = tk.Label(root, width = self.canvas_size, height = self.canvas_size)\n",
    "        self.image_label.pack(pady=10)\n",
    "        \n",
    "    def on_click(self, event):\n",
    "        self.update_image(event)\n",
    "\n",
    "    def on_drag(self, event):\n",
    "        self.update_image(event)\n",
    "\n",
    "    def update_image(self, event):\n",
    "        # Normalize click coordinates to [-3, 3]\n",
    "        x = 6 * (event.x / self.canvas_size - 0.5)\n",
    "        y = 6 * (event.y / self.canvas_size - 0.5)\n",
    "        \n",
    "        # Assuming the third dimension of latent space is zero for 2D click\n",
    "        point = [x, y, 0]\n",
    "        \n",
    "        decoded_img = decode_sample(self.model, point)\n",
    "        img = Image.fromarray((decoded_img * 255).astype(np.uint8))\n",
    "        img = img.resize((256, 256), Image.ANTIALIAS)\n",
    "        \n",
    "        img_tk = ImageTk.PhotoImage(img)\n",
    "        self.image_label.configure(image=img_tk)\n",
    "        self.image_label.image = img_tk\n"
   ]
  },
  {
   "cell_type": "code",
   "execution_count": null,
   "id": "7eb99378",
   "metadata": {},
   "outputs": [],
   "source": [
    "root = tk.Tk()\n",
    "gui = VAE_GUI(root)\n",
    "root.mainloop()"
   ]
  },
  {
   "cell_type": "code",
   "execution_count": null,
   "id": "261a8441",
   "metadata": {},
   "outputs": [],
   "source": []
  }
 ],
 "metadata": {
  "kernelspec": {
   "display_name": "Python 3 (ipykernel)",
   "language": "python",
   "name": "python3"
  },
  "language_info": {
   "codemirror_mode": {
    "name": "ipython",
    "version": 3
   },
   "file_extension": ".py",
   "mimetype": "text/x-python",
   "name": "python",
   "nbconvert_exporter": "python",
   "pygments_lexer": "ipython3",
   "version": "3.10.12"
  }
 },
 "nbformat": 4,
 "nbformat_minor": 5
}
